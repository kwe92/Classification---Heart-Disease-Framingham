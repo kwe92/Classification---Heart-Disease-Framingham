{
 "cells": [
  {
   "cell_type": "code",
   "execution_count": 1,
   "id": "f51a5941",
   "metadata": {},
   "outputs": [],
   "source": [
    "import pandas as pd\n",
    "import numpy as np\n",
    "import statsmodels.api as sm\n",
    "import matplotlib.pyplot as plt\n",
    "import seaborn as sns\n",
    "from scipy import stats\n",
    "from sklearn.feature_selection import chi2\n",
    "from sklearn.linear_model import LogisticRegression\n",
    "from sklearn.model_selection import train_test_split\n",
    "from sklearn.model_selection import cross_val_score\n",
    "from sklearn.metrics import confusion_matrix, accuracy_score\n",
    "from sklearn.model_selection import cross_val_score\n",
    "from sklearn.preprocessing import StandardScaler\n",
    "from imblearn.over_sampling import SMOTE\n",
    "from warnings import filterwarnings\n",
    "%matplotlib notebook"
   ]
  },
  {
   "cell_type": "code",
   "execution_count": 2,
   "id": "03d553b2",
   "metadata": {},
   "outputs": [],
   "source": [
    "filterwarnings(action=\"ignore\")"
   ]
  },
  {
   "cell_type": "code",
   "execution_count": 3,
   "id": "7e90aa16",
   "metadata": {},
   "outputs": [],
   "source": [
    "r2 = lambda x: round(x,2)\n",
    "r3 = lambda x: round(x,3)"
   ]
  },
  {
   "cell_type": "markdown",
   "id": "c73f2eb0",
   "metadata": {},
   "source": [
    "# Get the data"
   ]
  },
  {
   "cell_type": "code",
   "execution_count": 4,
   "id": "0825941b",
   "metadata": {},
   "outputs": [],
   "source": [
    "chd_df = pd.read_csv(\"framingham.csv\")"
   ]
  },
  {
   "cell_type": "markdown",
   "id": "264fcc8c",
   "metadata": {},
   "source": [
    "### Inspect Dataframe"
   ]
  },
  {
   "cell_type": "code",
   "execution_count": 5,
   "id": "d79d0876",
   "metadata": {},
   "outputs": [
    {
     "data": {
      "text/html": [
       "<div>\n",
       "<style scoped>\n",
       "    .dataframe tbody tr th:only-of-type {\n",
       "        vertical-align: middle;\n",
       "    }\n",
       "\n",
       "    .dataframe tbody tr th {\n",
       "        vertical-align: top;\n",
       "    }\n",
       "\n",
       "    .dataframe thead th {\n",
       "        text-align: right;\n",
       "    }\n",
       "</style>\n",
       "<table border=\"1\" class=\"dataframe\">\n",
       "  <thead>\n",
       "    <tr style=\"text-align: right;\">\n",
       "      <th></th>\n",
       "      <th>male</th>\n",
       "      <th>age</th>\n",
       "      <th>education</th>\n",
       "      <th>currentSmoker</th>\n",
       "      <th>cigsPerDay</th>\n",
       "      <th>BPMeds</th>\n",
       "      <th>prevalentStroke</th>\n",
       "      <th>prevalentHyp</th>\n",
       "      <th>diabetes</th>\n",
       "      <th>totChol</th>\n",
       "      <th>sysBP</th>\n",
       "      <th>diaBP</th>\n",
       "      <th>BMI</th>\n",
       "      <th>heartRate</th>\n",
       "      <th>glucose</th>\n",
       "      <th>TenYearCHD</th>\n",
       "    </tr>\n",
       "  </thead>\n",
       "  <tbody>\n",
       "    <tr>\n",
       "      <th>0</th>\n",
       "      <td>1</td>\n",
       "      <td>39</td>\n",
       "      <td>4.0</td>\n",
       "      <td>0</td>\n",
       "      <td>0.0</td>\n",
       "      <td>0.0</td>\n",
       "      <td>0</td>\n",
       "      <td>0</td>\n",
       "      <td>0</td>\n",
       "      <td>195.0</td>\n",
       "      <td>106.0</td>\n",
       "      <td>70.0</td>\n",
       "      <td>26.97</td>\n",
       "      <td>80.0</td>\n",
       "      <td>77.0</td>\n",
       "      <td>0</td>\n",
       "    </tr>\n",
       "    <tr>\n",
       "      <th>1</th>\n",
       "      <td>0</td>\n",
       "      <td>46</td>\n",
       "      <td>2.0</td>\n",
       "      <td>0</td>\n",
       "      <td>0.0</td>\n",
       "      <td>0.0</td>\n",
       "      <td>0</td>\n",
       "      <td>0</td>\n",
       "      <td>0</td>\n",
       "      <td>250.0</td>\n",
       "      <td>121.0</td>\n",
       "      <td>81.0</td>\n",
       "      <td>28.73</td>\n",
       "      <td>95.0</td>\n",
       "      <td>76.0</td>\n",
       "      <td>0</td>\n",
       "    </tr>\n",
       "    <tr>\n",
       "      <th>2</th>\n",
       "      <td>1</td>\n",
       "      <td>48</td>\n",
       "      <td>1.0</td>\n",
       "      <td>1</td>\n",
       "      <td>20.0</td>\n",
       "      <td>0.0</td>\n",
       "      <td>0</td>\n",
       "      <td>0</td>\n",
       "      <td>0</td>\n",
       "      <td>245.0</td>\n",
       "      <td>127.5</td>\n",
       "      <td>80.0</td>\n",
       "      <td>25.34</td>\n",
       "      <td>75.0</td>\n",
       "      <td>70.0</td>\n",
       "      <td>0</td>\n",
       "    </tr>\n",
       "    <tr>\n",
       "      <th>3</th>\n",
       "      <td>0</td>\n",
       "      <td>61</td>\n",
       "      <td>3.0</td>\n",
       "      <td>1</td>\n",
       "      <td>30.0</td>\n",
       "      <td>0.0</td>\n",
       "      <td>0</td>\n",
       "      <td>1</td>\n",
       "      <td>0</td>\n",
       "      <td>225.0</td>\n",
       "      <td>150.0</td>\n",
       "      <td>95.0</td>\n",
       "      <td>28.58</td>\n",
       "      <td>65.0</td>\n",
       "      <td>103.0</td>\n",
       "      <td>1</td>\n",
       "    </tr>\n",
       "    <tr>\n",
       "      <th>4</th>\n",
       "      <td>0</td>\n",
       "      <td>46</td>\n",
       "      <td>3.0</td>\n",
       "      <td>1</td>\n",
       "      <td>23.0</td>\n",
       "      <td>0.0</td>\n",
       "      <td>0</td>\n",
       "      <td>0</td>\n",
       "      <td>0</td>\n",
       "      <td>285.0</td>\n",
       "      <td>130.0</td>\n",
       "      <td>84.0</td>\n",
       "      <td>23.10</td>\n",
       "      <td>85.0</td>\n",
       "      <td>85.0</td>\n",
       "      <td>0</td>\n",
       "    </tr>\n",
       "  </tbody>\n",
       "</table>\n",
       "</div>"
      ],
      "text/plain": [
       "   male  age  education  currentSmoker  cigsPerDay  BPMeds  prevalentStroke  \\\n",
       "0     1   39        4.0              0         0.0     0.0                0   \n",
       "1     0   46        2.0              0         0.0     0.0                0   \n",
       "2     1   48        1.0              1        20.0     0.0                0   \n",
       "3     0   61        3.0              1        30.0     0.0                0   \n",
       "4     0   46        3.0              1        23.0     0.0                0   \n",
       "\n",
       "   prevalentHyp  diabetes  totChol  sysBP  diaBP    BMI  heartRate  glucose  \\\n",
       "0             0         0    195.0  106.0   70.0  26.97       80.0     77.0   \n",
       "1             0         0    250.0  121.0   81.0  28.73       95.0     76.0   \n",
       "2             0         0    245.0  127.5   80.0  25.34       75.0     70.0   \n",
       "3             1         0    225.0  150.0   95.0  28.58       65.0    103.0   \n",
       "4             0         0    285.0  130.0   84.0  23.10       85.0     85.0   \n",
       "\n",
       "   TenYearCHD  \n",
       "0           0  \n",
       "1           0  \n",
       "2           0  \n",
       "3           1  \n",
       "4           0  "
      ]
     },
     "execution_count": 5,
     "metadata": {},
     "output_type": "execute_result"
    }
   ],
   "source": [
    "chd_df.head()"
   ]
  },
  {
   "cell_type": "markdown",
   "id": "6c99c6ad",
   "metadata": {},
   "source": [
    "### Understand Features/Variables"
   ]
  },
  {
   "cell_type": "markdown",
   "id": "618c8213",
   "metadata": {},
   "source": [
    "#### Columns/Variables Explained:\n",
    "* **sex**: male or female (male=1)\n",
    "* **age**: age of the patient;(Continuous - Although the recorded ages have been truncated to whole numbers, the concept of age is continuous)\n",
    "* **education**: 1 = Some High School; 2 = High School or GED; 3 = Some College or Vocational School; 4 = college (Categorical - Nominal)\n",
    "* **currentSmoker**: whether or not the patient is a current smoker (current smoker=1)\n",
    "* **cigsPerDay**: the number of cigarettes that the person smoked on average in one day.\n",
    "* **BPMeds**: whether or not the patient was on blood pressure medication (on BP medication = 1)\n",
    "* **prevalentStroke**: whether or not the patient had previously had a stroke (previous stroke = 1)\n",
    "* **prevalentHyp**: whether or not the patient was hypertensive (hypertensive = 1)\n",
    "* **diabetes**: whether or not the patient had diabetes (diabetes = 1)\n",
    "* **totChol**: total cholesterol level.\n",
    "* **sysBP**: systolic blood pressure.\n",
    "* **diaBP**: diastolic blood pressure.\n",
    "* **BMI**: Body Mass Index.\n",
    "* **heartRate**: heart rate.\n",
    "* **glucose**: glucose level\n",
    "* **TenYearCHD**: 10 year risk of coronary heart disease CHD (yes=1)"
   ]
  },
  {
   "cell_type": "markdown",
   "id": "5c4a417d",
   "metadata": {},
   "source": [
    "### Inspect datatypes and null values"
   ]
  },
  {
   "cell_type": "code",
   "execution_count": 6,
   "id": "ff919cfd",
   "metadata": {},
   "outputs": [
    {
     "name": "stdout",
     "output_type": "stream",
     "text": [
      "<class 'pandas.core.frame.DataFrame'>\n",
      "RangeIndex: 4240 entries, 0 to 4239\n",
      "Data columns (total 16 columns):\n",
      " #   Column           Non-Null Count  Dtype  \n",
      "---  ------           --------------  -----  \n",
      " 0   male             4240 non-null   int64  \n",
      " 1   age              4240 non-null   int64  \n",
      " 2   education        4135 non-null   float64\n",
      " 3   currentSmoker    4240 non-null   int64  \n",
      " 4   cigsPerDay       4211 non-null   float64\n",
      " 5   BPMeds           4187 non-null   float64\n",
      " 6   prevalentStroke  4240 non-null   int64  \n",
      " 7   prevalentHyp     4240 non-null   int64  \n",
      " 8   diabetes         4240 non-null   int64  \n",
      " 9   totChol          4190 non-null   float64\n",
      " 10  sysBP            4240 non-null   float64\n",
      " 11  diaBP            4240 non-null   float64\n",
      " 12  BMI              4221 non-null   float64\n",
      " 13  heartRate        4239 non-null   float64\n",
      " 14  glucose          3852 non-null   float64\n",
      " 15  TenYearCHD       4240 non-null   int64  \n",
      "dtypes: float64(9), int64(7)\n",
      "memory usage: 530.1 KB\n"
     ]
    }
   ],
   "source": [
    "chd_df.info()"
   ]
  },
  {
   "cell_type": "markdown",
   "id": "8f2e3af4",
   "metadata": {},
   "source": [
    "### Check how many null values are in each row"
   ]
  },
  {
   "cell_type": "code",
   "execution_count": 7,
   "id": "46c1bae5",
   "metadata": {},
   "outputs": [
    {
     "data": {
      "text/plain": [
       "male                 0\n",
       "age                  0\n",
       "education          105\n",
       "currentSmoker        0\n",
       "cigsPerDay          29\n",
       "BPMeds              53\n",
       "prevalentStroke      0\n",
       "prevalentHyp         0\n",
       "diabetes             0\n",
       "totChol             50\n",
       "sysBP                0\n",
       "diaBP                0\n",
       "BMI                 19\n",
       "heartRate            1\n",
       "glucose            388\n",
       "TenYearCHD           0\n",
       "dtype: int64"
      ]
     },
     "execution_count": 7,
     "metadata": {},
     "output_type": "execute_result"
    }
   ],
   "source": [
    "chd_df.isnull().sum()"
   ]
  },
  {
   "cell_type": "markdown",
   "id": "b0635767",
   "metadata": {},
   "source": [
    "### Percent of null values"
   ]
  },
  {
   "cell_type": "code",
   "execution_count": 8,
   "id": "1c63762a",
   "metadata": {},
   "outputs": [
    {
     "data": {
      "text/plain": [
       "male                0.00\n",
       "age                 0.00\n",
       "education           2.54\n",
       "currentSmoker       0.00\n",
       "cigsPerDay          0.69\n",
       "BPMeds              1.27\n",
       "prevalentStroke     0.00\n",
       "prevalentHyp        0.00\n",
       "diabetes            0.00\n",
       "totChol             1.19\n",
       "sysBP               0.00\n",
       "diaBP               0.00\n",
       "BMI                 0.45\n",
       "heartRate           0.02\n",
       "glucose            10.07\n",
       "TenYearCHD          0.00\n",
       "dtype: float64"
      ]
     },
     "execution_count": 8,
     "metadata": {},
     "output_type": "execute_result"
    }
   ],
   "source": [
    "r2((chd_df.isnull().sum() / chd_df.count()) * 100)"
   ]
  },
  {
   "cell_type": "markdown",
   "id": "2fd0d087",
   "metadata": {},
   "source": [
    "### Drop null rows"
   ]
  },
  {
   "cell_type": "code",
   "execution_count": 9,
   "id": "3bb6b1c2",
   "metadata": {},
   "outputs": [],
   "source": [
    "# drops rows that have a null value\n",
    "chd_df = chd_df.dropna(how=\"any\").reset_index(drop=True)"
   ]
  },
  {
   "cell_type": "code",
   "execution_count": 10,
   "id": "f49b5d60",
   "metadata": {},
   "outputs": [
    {
     "data": {
      "text/plain": [
       "male               0.0\n",
       "age                0.0\n",
       "education          0.0\n",
       "currentSmoker      0.0\n",
       "cigsPerDay         0.0\n",
       "BPMeds             0.0\n",
       "prevalentStroke    0.0\n",
       "prevalentHyp       0.0\n",
       "diabetes           0.0\n",
       "totChol            0.0\n",
       "sysBP              0.0\n",
       "diaBP              0.0\n",
       "BMI                0.0\n",
       "heartRate          0.0\n",
       "glucose            0.0\n",
       "TenYearCHD         0.0\n",
       "dtype: float64"
      ]
     },
     "execution_count": 10,
     "metadata": {},
     "output_type": "execute_result"
    }
   ],
   "source": [
    "# percent of null values should be 0.0 for all rows since null values were dropped\n",
    "(chd_df.isnull().sum() / chd_df.count()) * 100"
   ]
  },
  {
   "cell_type": "markdown",
   "id": "0c43d157",
   "metadata": {},
   "source": [
    "### Percent of observations with TenYearCHD"
   ]
  },
  {
   "cell_type": "code",
   "execution_count": 11,
   "id": "28b9a562",
   "metadata": {},
   "outputs": [],
   "source": [
    "pctTYchd = (chd_df.TenYearCHD.sum() / chd_df.shape[0]) * 100"
   ]
  },
  {
   "cell_type": "code",
   "execution_count": 12,
   "id": "2c0a853c",
   "metadata": {},
   "outputs": [
    {
     "name": "stdout",
     "output_type": "stream",
     "text": [
      "Percentage of observations with TenYearCHD risk: 15.23%\n"
     ]
    }
   ],
   "source": [
    "print(\"Percentage of observations with TenYearCHD risk: {:.2f}%\".format(pctTYchd))"
   ]
  },
  {
   "cell_type": "markdown",
   "id": "0d0b1814",
   "metadata": {},
   "source": [
    "Since only 15.23% of our observations have TenYearCHD risk there maybe some misclassification on positive values."
   ]
  },
  {
   "cell_type": "markdown",
   "id": "36ff84a0",
   "metadata": {},
   "source": [
    "### Encode the categorical - nominal variable education"
   ]
  },
  {
   "cell_type": "code",
   "execution_count": 13,
   "id": "b44728f6",
   "metadata": {},
   "outputs": [],
   "source": [
    "chd_df = pd.get_dummies(chd_df,columns=[\"education\"],drop_first=True)"
   ]
  },
  {
   "cell_type": "markdown",
   "id": "2b5b294f",
   "metadata": {},
   "source": [
    "### Place independent variable at the end of the matrix"
   ]
  },
  {
   "cell_type": "code",
   "execution_count": 14,
   "id": "38dc145f",
   "metadata": {},
   "outputs": [],
   "source": [
    "tyd = chd_df.pop(\"TenYearCHD\")"
   ]
  },
  {
   "cell_type": "code",
   "execution_count": 15,
   "id": "fc24681a",
   "metadata": {},
   "outputs": [],
   "source": [
    "chd_df.insert(loc=len(chd_df.columns),column=\"TenYearCHD\",value = tyd)"
   ]
  },
  {
   "cell_type": "markdown",
   "id": "5ba8f483",
   "metadata": {},
   "source": [
    "### Separate independent and dependent variables "
   ]
  },
  {
   "cell_type": "code",
   "execution_count": 16,
   "id": "c26b4872",
   "metadata": {},
   "outputs": [],
   "source": [
    "X = chd_df.drop(\"TenYearCHD\",axis=1) # Dataframe of features\n",
    "y = chd_df.iloc[:,-1]# independent variable vector"
   ]
  },
  {
   "cell_type": "markdown",
   "id": "1273d06f",
   "metadata": {},
   "source": [
    "### Test for statistical Significance\n",
    " - alpha = 0.05\n",
    " - pvalue < alpha"
   ]
  },
  {
   "cell_type": "code",
   "execution_count": 17,
   "id": "ba298a82",
   "metadata": {},
   "outputs": [],
   "source": [
    "logit = sm.Logit"
   ]
  },
  {
   "cell_type": "code",
   "execution_count": 18,
   "id": "4aa31d5b",
   "metadata": {},
   "outputs": [
    {
     "name": "stdout",
     "output_type": "stream",
     "text": [
      "Optimization terminated successfully.\n",
      "         Current function value: 0.396146\n",
      "         Iterations 6\n"
     ]
    }
   ],
   "source": [
    "results = logit(y,X).fit()"
   ]
  },
  {
   "cell_type": "code",
   "execution_count": 19,
   "id": "31d8cd95",
   "metadata": {},
   "outputs": [
    {
     "data": {
      "text/html": [
       "<table class=\"simpletable\">\n",
       "<caption>Logit Regression Results</caption>\n",
       "<tr>\n",
       "  <th>Dep. Variable:</th>      <td>TenYearCHD</td>    <th>  No. Observations:  </th>  <td>  3658</td>  \n",
       "</tr>\n",
       "<tr>\n",
       "  <th>Model:</th>                 <td>Logit</td>      <th>  Df Residuals:      </th>  <td>  3641</td>  \n",
       "</tr>\n",
       "<tr>\n",
       "  <th>Method:</th>                 <td>MLE</td>       <th>  Df Model:          </th>  <td>    16</td>  \n",
       "</tr>\n",
       "<tr>\n",
       "  <th>Date:</th>            <td>Thu, 02 Jun 2022</td> <th>  Pseudo R-squ.:     </th>  <td>0.07144</td> \n",
       "</tr>\n",
       "<tr>\n",
       "  <th>Time:</th>                <td>14:24:42</td>     <th>  Log-Likelihood:    </th> <td> -1449.1</td> \n",
       "</tr>\n",
       "<tr>\n",
       "  <th>converged:</th>             <td>True</td>       <th>  LL-Null:           </th> <td> -1560.6</td> \n",
       "</tr>\n",
       "<tr>\n",
       "  <th>Covariance Type:</th>     <td>nonrobust</td>    <th>  LLR p-value:       </th> <td>1.723e-38</td>\n",
       "</tr>\n",
       "</table>\n",
       "<table class=\"simpletable\">\n",
       "<tr>\n",
       "         <td></td>            <th>coef</th>     <th>std err</th>      <th>z</th>      <th>P>|z|</th>  <th>[0.025</th>    <th>0.975]</th>  \n",
       "</tr>\n",
       "<tr>\n",
       "  <th>male</th>            <td>    0.3688</td> <td>    0.105</td> <td>    3.501</td> <td> 0.000</td> <td>    0.162</td> <td>    0.575</td>\n",
       "</tr>\n",
       "<tr>\n",
       "  <th>age</th>             <td>    0.0266</td> <td>    0.006</td> <td>    4.509</td> <td> 0.000</td> <td>    0.015</td> <td>    0.038</td>\n",
       "</tr>\n",
       "<tr>\n",
       "  <th>currentSmoker</th>   <td>   -0.2095</td> <td>    0.153</td> <td>   -1.371</td> <td> 0.170</td> <td>   -0.509</td> <td>    0.090</td>\n",
       "</tr>\n",
       "<tr>\n",
       "  <th>cigsPerDay</th>      <td>    0.0209</td> <td>    0.006</td> <td>    3.378</td> <td> 0.001</td> <td>    0.009</td> <td>    0.033</td>\n",
       "</tr>\n",
       "<tr>\n",
       "  <th>BPMeds</th>          <td>    0.3716</td> <td>    0.231</td> <td>    1.611</td> <td> 0.107</td> <td>   -0.081</td> <td>    0.824</td>\n",
       "</tr>\n",
       "<tr>\n",
       "  <th>prevalentStroke</th> <td>    0.7298</td> <td>    0.489</td> <td>    1.493</td> <td> 0.135</td> <td>   -0.228</td> <td>    1.688</td>\n",
       "</tr>\n",
       "<tr>\n",
       "  <th>prevalentHyp</th>    <td>    0.9253</td> <td>    0.124</td> <td>    7.444</td> <td> 0.000</td> <td>    0.682</td> <td>    1.169</td>\n",
       "</tr>\n",
       "<tr>\n",
       "  <th>diabetes</th>        <td>    0.7197</td> <td>    0.298</td> <td>    2.413</td> <td> 0.016</td> <td>    0.135</td> <td>    1.304</td>\n",
       "</tr>\n",
       "<tr>\n",
       "  <th>totChol</th>         <td>   -0.0010</td> <td>    0.001</td> <td>   -0.931</td> <td> 0.352</td> <td>   -0.003</td> <td>    0.001</td>\n",
       "</tr>\n",
       "<tr>\n",
       "  <th>sysBP</th>           <td>    0.0130</td> <td>    0.004</td> <td>    3.420</td> <td> 0.001</td> <td>    0.006</td> <td>    0.020</td>\n",
       "</tr>\n",
       "<tr>\n",
       "  <th>diaBP</th>           <td>   -0.0265</td> <td>    0.006</td> <td>   -4.324</td> <td> 0.000</td> <td>   -0.038</td> <td>   -0.014</td>\n",
       "</tr>\n",
       "<tr>\n",
       "  <th>BMI</th>             <td>   -0.0503</td> <td>    0.012</td> <td>   -4.081</td> <td> 0.000</td> <td>   -0.074</td> <td>   -0.026</td>\n",
       "</tr>\n",
       "<tr>\n",
       "  <th>heartRate</th>       <td>   -0.0221</td> <td>    0.004</td> <td>   -5.548</td> <td> 0.000</td> <td>   -0.030</td> <td>   -0.014</td>\n",
       "</tr>\n",
       "<tr>\n",
       "  <th>glucose</th>         <td>    0.0021</td> <td>    0.002</td> <td>    1.013</td> <td> 0.311</td> <td>   -0.002</td> <td>    0.006</td>\n",
       "</tr>\n",
       "<tr>\n",
       "  <th>education_2.0</th>   <td>   -0.4614</td> <td>    0.118</td> <td>   -3.897</td> <td> 0.000</td> <td>   -0.693</td> <td>   -0.229</td>\n",
       "</tr>\n",
       "<tr>\n",
       "  <th>education_3.0</th>   <td>   -0.4296</td> <td>    0.145</td> <td>   -2.959</td> <td> 0.003</td> <td>   -0.714</td> <td>   -0.145</td>\n",
       "</tr>\n",
       "<tr>\n",
       "  <th>education_4.0</th>   <td>   -0.3396</td> <td>    0.159</td> <td>   -2.130</td> <td> 0.033</td> <td>   -0.652</td> <td>   -0.027</td>\n",
       "</tr>\n",
       "</table>"
      ],
      "text/plain": [
       "<class 'statsmodels.iolib.summary.Summary'>\n",
       "\"\"\"\n",
       "                           Logit Regression Results                           \n",
       "==============================================================================\n",
       "Dep. Variable:             TenYearCHD   No. Observations:                 3658\n",
       "Model:                          Logit   Df Residuals:                     3641\n",
       "Method:                           MLE   Df Model:                           16\n",
       "Date:                Thu, 02 Jun 2022   Pseudo R-squ.:                 0.07144\n",
       "Time:                        14:24:42   Log-Likelihood:                -1449.1\n",
       "converged:                       True   LL-Null:                       -1560.6\n",
       "Covariance Type:            nonrobust   LLR p-value:                 1.723e-38\n",
       "===================================================================================\n",
       "                      coef    std err          z      P>|z|      [0.025      0.975]\n",
       "-----------------------------------------------------------------------------------\n",
       "male                0.3688      0.105      3.501      0.000       0.162       0.575\n",
       "age                 0.0266      0.006      4.509      0.000       0.015       0.038\n",
       "currentSmoker      -0.2095      0.153     -1.371      0.170      -0.509       0.090\n",
       "cigsPerDay          0.0209      0.006      3.378      0.001       0.009       0.033\n",
       "BPMeds              0.3716      0.231      1.611      0.107      -0.081       0.824\n",
       "prevalentStroke     0.7298      0.489      1.493      0.135      -0.228       1.688\n",
       "prevalentHyp        0.9253      0.124      7.444      0.000       0.682       1.169\n",
       "diabetes            0.7197      0.298      2.413      0.016       0.135       1.304\n",
       "totChol            -0.0010      0.001     -0.931      0.352      -0.003       0.001\n",
       "sysBP               0.0130      0.004      3.420      0.001       0.006       0.020\n",
       "diaBP              -0.0265      0.006     -4.324      0.000      -0.038      -0.014\n",
       "BMI                -0.0503      0.012     -4.081      0.000      -0.074      -0.026\n",
       "heartRate          -0.0221      0.004     -5.548      0.000      -0.030      -0.014\n",
       "glucose             0.0021      0.002      1.013      0.311      -0.002       0.006\n",
       "education_2.0      -0.4614      0.118     -3.897      0.000      -0.693      -0.229\n",
       "education_3.0      -0.4296      0.145     -2.959      0.003      -0.714      -0.145\n",
       "education_4.0      -0.3396      0.159     -2.130      0.033      -0.652      -0.027\n",
       "===================================================================================\n",
       "\"\"\""
      ]
     },
     "execution_count": 19,
     "metadata": {},
     "output_type": "execute_result"
    }
   ],
   "source": [
    "results.summary()"
   ]
  },
  {
   "cell_type": "markdown",
   "id": "1f1bbce7",
   "metadata": {},
   "source": [
    "### Backwards Elimination\n",
    "\n",
    "   - Iterate through features and remove insignificant features and retest the model"
   ]
  },
  {
   "cell_type": "code",
   "execution_count": 20,
   "id": "8c3e2711",
   "metadata": {},
   "outputs": [],
   "source": [
    "class BackwardElimination:\n",
    "    \n",
    "    \"\"\"\n",
    "    Backwards Elimination:\n",
    "        \n",
    "        Gradually eliminates insignificant variables.\n",
    "        \n",
    "        Parameters\n",
    "        ----------     \n",
    "        X: A pandas.DataFrame of independent variables.\n",
    "        \n",
    "        y: The dependent variable.\n",
    "        \n",
    "        sl: alpha or significance level. Default is 0.05.\n",
    "    \"\"\"\n",
    "    \n",
    "    def __init__(self,X,y,sl=0.05):\n",
    "        self.X = X\n",
    "        self.y = y\n",
    "        self.sl = sl\n",
    "        self.sigCols = ''\n",
    "        \n",
    "    def backward_elimination(self):\n",
    "        \n",
    "        colList = self.X.columns\n",
    "    \n",
    "        while len(colList) > 0:\n",
    "            model = sm.Logit(self.y,self.X[colList])\n",
    "            result = model.fit()\n",
    "            largest_pvalue = r3(result.pvalues).nlargest(1)\n",
    "            if largest_pvalue[0] < self.sl:\n",
    "                self.sigCols = colList\n",
    "                return result\n",
    "                break\n",
    "            else:\n",
    "                colList = colList.drop(largest_pvalue.index)"
   ]
  },
  {
   "cell_type": "code",
   "execution_count": 21,
   "id": "bfc1c2f7",
   "metadata": {},
   "outputs": [],
   "source": [
    "be = BackwardElimination(X,y)"
   ]
  },
  {
   "cell_type": "code",
   "execution_count": 22,
   "id": "be76c4a3",
   "metadata": {},
   "outputs": [
    {
     "name": "stdout",
     "output_type": "stream",
     "text": [
      "Optimization terminated successfully.\n",
      "         Current function value: 0.396146\n",
      "         Iterations 6\n",
      "Optimization terminated successfully.\n",
      "         Current function value: 0.396265\n",
      "         Iterations 6\n",
      "Optimization terminated successfully.\n",
      "         Current function value: 0.396396\n",
      "         Iterations 6\n",
      "Optimization terminated successfully.\n",
      "         Current function value: 0.396656\n",
      "         Iterations 6\n",
      "Optimization terminated successfully.\n",
      "         Current function value: 0.396949\n",
      "         Iterations 6\n",
      "Optimization terminated successfully.\n",
      "         Current function value: 0.397367\n",
      "         Iterations 6\n"
     ]
    }
   ],
   "source": [
    "resultsBE = be.backward_elimination()"
   ]
  },
  {
   "cell_type": "code",
   "execution_count": 23,
   "id": "7d046c23",
   "metadata": {},
   "outputs": [
    {
     "data": {
      "text/html": [
       "<table class=\"simpletable\">\n",
       "<caption>Logit Regression Results</caption>\n",
       "<tr>\n",
       "  <th>Dep. Variable:</th>      <td>TenYearCHD</td>    <th>  No. Observations:  </th>  <td>  3658</td>  \n",
       "</tr>\n",
       "<tr>\n",
       "  <th>Model:</th>                 <td>Logit</td>      <th>  Df Residuals:      </th>  <td>  3646</td>  \n",
       "</tr>\n",
       "<tr>\n",
       "  <th>Method:</th>                 <td>MLE</td>       <th>  Df Model:          </th>  <td>    11</td>  \n",
       "</tr>\n",
       "<tr>\n",
       "  <th>Date:</th>            <td>Thu, 02 Jun 2022</td> <th>  Pseudo R-squ.:     </th>  <td>0.06858</td> \n",
       "</tr>\n",
       "<tr>\n",
       "  <th>Time:</th>                <td>14:24:42</td>     <th>  Log-Likelihood:    </th> <td> -1453.6</td> \n",
       "</tr>\n",
       "<tr>\n",
       "  <th>converged:</th>             <td>True</td>       <th>  LL-Null:           </th> <td> -1560.6</td> \n",
       "</tr>\n",
       "<tr>\n",
       "  <th>Covariance Type:</th>     <td>nonrobust</td>    <th>  LLR p-value:       </th> <td>8.956e-40</td>\n",
       "</tr>\n",
       "</table>\n",
       "<table class=\"simpletable\">\n",
       "<tr>\n",
       "        <td></td>           <th>coef</th>     <th>std err</th>      <th>z</th>      <th>P>|z|</th>  <th>[0.025</th>    <th>0.975]</th>  \n",
       "</tr>\n",
       "<tr>\n",
       "  <th>male</th>          <td>    0.3713</td> <td>    0.104</td> <td>    3.558</td> <td> 0.000</td> <td>    0.167</td> <td>    0.576</td>\n",
       "</tr>\n",
       "<tr>\n",
       "  <th>age</th>           <td>    0.0257</td> <td>    0.006</td> <td>    4.577</td> <td> 0.000</td> <td>    0.015</td> <td>    0.037</td>\n",
       "</tr>\n",
       "<tr>\n",
       "  <th>cigsPerDay</th>    <td>    0.0141</td> <td>    0.004</td> <td>    3.400</td> <td> 0.001</td> <td>    0.006</td> <td>    0.022</td>\n",
       "</tr>\n",
       "<tr>\n",
       "  <th>prevalentHyp</th>  <td>    0.9675</td> <td>    0.121</td> <td>    8.021</td> <td> 0.000</td> <td>    0.731</td> <td>    1.204</td>\n",
       "</tr>\n",
       "<tr>\n",
       "  <th>diabetes</th>      <td>    0.9240</td> <td>    0.230</td> <td>    4.009</td> <td> 0.000</td> <td>    0.472</td> <td>    1.376</td>\n",
       "</tr>\n",
       "<tr>\n",
       "  <th>sysBP</th>         <td>    0.0137</td> <td>    0.004</td> <td>    3.632</td> <td> 0.000</td> <td>    0.006</td> <td>    0.021</td>\n",
       "</tr>\n",
       "<tr>\n",
       "  <th>diaBP</th>         <td>   -0.0273</td> <td>    0.006</td> <td>   -4.482</td> <td> 0.000</td> <td>   -0.039</td> <td>   -0.015</td>\n",
       "</tr>\n",
       "<tr>\n",
       "  <th>BMI</th>           <td>   -0.0496</td> <td>    0.012</td> <td>   -4.093</td> <td> 0.000</td> <td>   -0.073</td> <td>   -0.026</td>\n",
       "</tr>\n",
       "<tr>\n",
       "  <th>heartRate</th>     <td>   -0.0234</td> <td>    0.004</td> <td>   -6.096</td> <td> 0.000</td> <td>   -0.031</td> <td>   -0.016</td>\n",
       "</tr>\n",
       "<tr>\n",
       "  <th>education_2.0</th> <td>   -0.4699</td> <td>    0.117</td> <td>   -4.001</td> <td> 0.000</td> <td>   -0.700</td> <td>   -0.240</td>\n",
       "</tr>\n",
       "<tr>\n",
       "  <th>education_3.0</th> <td>   -0.4312</td> <td>    0.144</td> <td>   -2.994</td> <td> 0.003</td> <td>   -0.713</td> <td>   -0.149</td>\n",
       "</tr>\n",
       "<tr>\n",
       "  <th>education_4.0</th> <td>   -0.3577</td> <td>    0.159</td> <td>   -2.255</td> <td> 0.024</td> <td>   -0.669</td> <td>   -0.047</td>\n",
       "</tr>\n",
       "</table>"
      ],
      "text/plain": [
       "<class 'statsmodels.iolib.summary.Summary'>\n",
       "\"\"\"\n",
       "                           Logit Regression Results                           \n",
       "==============================================================================\n",
       "Dep. Variable:             TenYearCHD   No. Observations:                 3658\n",
       "Model:                          Logit   Df Residuals:                     3646\n",
       "Method:                           MLE   Df Model:                           11\n",
       "Date:                Thu, 02 Jun 2022   Pseudo R-squ.:                 0.06858\n",
       "Time:                        14:24:42   Log-Likelihood:                -1453.6\n",
       "converged:                       True   LL-Null:                       -1560.6\n",
       "Covariance Type:            nonrobust   LLR p-value:                 8.956e-40\n",
       "=================================================================================\n",
       "                    coef    std err          z      P>|z|      [0.025      0.975]\n",
       "---------------------------------------------------------------------------------\n",
       "male              0.3713      0.104      3.558      0.000       0.167       0.576\n",
       "age               0.0257      0.006      4.577      0.000       0.015       0.037\n",
       "cigsPerDay        0.0141      0.004      3.400      0.001       0.006       0.022\n",
       "prevalentHyp      0.9675      0.121      8.021      0.000       0.731       1.204\n",
       "diabetes          0.9240      0.230      4.009      0.000       0.472       1.376\n",
       "sysBP             0.0137      0.004      3.632      0.000       0.006       0.021\n",
       "diaBP            -0.0273      0.006     -4.482      0.000      -0.039      -0.015\n",
       "BMI              -0.0496      0.012     -4.093      0.000      -0.073      -0.026\n",
       "heartRate        -0.0234      0.004     -6.096      0.000      -0.031      -0.016\n",
       "education_2.0    -0.4699      0.117     -4.001      0.000      -0.700      -0.240\n",
       "education_3.0    -0.4312      0.144     -2.994      0.003      -0.713      -0.149\n",
       "education_4.0    -0.3577      0.159     -2.255      0.024      -0.669      -0.047\n",
       "=================================================================================\n",
       "\"\"\""
      ]
     },
     "execution_count": 23,
     "metadata": {},
     "output_type": "execute_result"
    }
   ],
   "source": [
    "resultsBE.summary()"
   ]
  },
  {
   "cell_type": "code",
   "execution_count": 24,
   "id": "44b66b80",
   "metadata": {},
   "outputs": [
    {
     "data": {
      "text/plain": [
       "Index(['male', 'age', 'cigsPerDay', 'prevalentHyp', 'diabetes', 'sysBP',\n",
       "       'diaBP', 'BMI', 'heartRate', 'education_2.0', 'education_3.0',\n",
       "       'education_4.0'],\n",
       "      dtype='object')"
      ]
     },
     "execution_count": 24,
     "metadata": {},
     "output_type": "execute_result"
    }
   ],
   "source": [
    "be.sigCols # Statistically significant features"
   ]
  },
  {
   "cell_type": "markdown",
   "id": "19e228ff",
   "metadata": {},
   "source": [
    "# Logistic Regression\n",
    "\n",
    "   - Using statistically significant features"
   ]
  },
  {
   "cell_type": "code",
   "execution_count": 25,
   "id": "5cbe6334",
   "metadata": {},
   "outputs": [],
   "source": [
    "X = chd_df[be.sigCols].values\n",
    "y = chd_df.iloc[:,-1].values"
   ]
  },
  {
   "cell_type": "code",
   "execution_count": 26,
   "id": "c4cc457d",
   "metadata": {},
   "outputs": [],
   "source": [
    "X_train,X_test,y_train,y_test = train_test_split(X,y,test_size=0.25,random_state=3)"
   ]
  },
  {
   "cell_type": "code",
   "execution_count": 27,
   "id": "5e2b6fb9",
   "metadata": {},
   "outputs": [],
   "source": [
    "lrm = LogisticRegression()"
   ]
  },
  {
   "cell_type": "code",
   "execution_count": 28,
   "id": "f1f83d3b",
   "metadata": {
    "scrolled": true
   },
   "outputs": [
    {
     "data": {
      "text/html": [
       "<style>#sk-container-id-1 {color: black;background-color: white;}#sk-container-id-1 pre{padding: 0;}#sk-container-id-1 div.sk-toggleable {background-color: white;}#sk-container-id-1 label.sk-toggleable__label {cursor: pointer;display: block;width: 100%;margin-bottom: 0;padding: 0.3em;box-sizing: border-box;text-align: center;}#sk-container-id-1 label.sk-toggleable__label-arrow:before {content: \"▸\";float: left;margin-right: 0.25em;color: #696969;}#sk-container-id-1 label.sk-toggleable__label-arrow:hover:before {color: black;}#sk-container-id-1 div.sk-estimator:hover label.sk-toggleable__label-arrow:before {color: black;}#sk-container-id-1 div.sk-toggleable__content {max-height: 0;max-width: 0;overflow: hidden;text-align: left;background-color: #f0f8ff;}#sk-container-id-1 div.sk-toggleable__content pre {margin: 0.2em;color: black;border-radius: 0.25em;background-color: #f0f8ff;}#sk-container-id-1 input.sk-toggleable__control:checked~div.sk-toggleable__content {max-height: 200px;max-width: 100%;overflow: auto;}#sk-container-id-1 input.sk-toggleable__control:checked~label.sk-toggleable__label-arrow:before {content: \"▾\";}#sk-container-id-1 div.sk-estimator input.sk-toggleable__control:checked~label.sk-toggleable__label {background-color: #d4ebff;}#sk-container-id-1 div.sk-label input.sk-toggleable__control:checked~label.sk-toggleable__label {background-color: #d4ebff;}#sk-container-id-1 input.sk-hidden--visually {border: 0;clip: rect(1px 1px 1px 1px);clip: rect(1px, 1px, 1px, 1px);height: 1px;margin: -1px;overflow: hidden;padding: 0;position: absolute;width: 1px;}#sk-container-id-1 div.sk-estimator {font-family: monospace;background-color: #f0f8ff;border: 1px dotted black;border-radius: 0.25em;box-sizing: border-box;margin-bottom: 0.5em;}#sk-container-id-1 div.sk-estimator:hover {background-color: #d4ebff;}#sk-container-id-1 div.sk-parallel-item::after {content: \"\";width: 100%;border-bottom: 1px solid gray;flex-grow: 1;}#sk-container-id-1 div.sk-label:hover label.sk-toggleable__label {background-color: #d4ebff;}#sk-container-id-1 div.sk-serial::before {content: \"\";position: absolute;border-left: 1px solid gray;box-sizing: border-box;top: 0;bottom: 0;left: 50%;z-index: 0;}#sk-container-id-1 div.sk-serial {display: flex;flex-direction: column;align-items: center;background-color: white;padding-right: 0.2em;padding-left: 0.2em;position: relative;}#sk-container-id-1 div.sk-item {position: relative;z-index: 1;}#sk-container-id-1 div.sk-parallel {display: flex;align-items: stretch;justify-content: center;background-color: white;position: relative;}#sk-container-id-1 div.sk-item::before, #sk-container-id-1 div.sk-parallel-item::before {content: \"\";position: absolute;border-left: 1px solid gray;box-sizing: border-box;top: 0;bottom: 0;left: 50%;z-index: -1;}#sk-container-id-1 div.sk-parallel-item {display: flex;flex-direction: column;z-index: 1;position: relative;background-color: white;}#sk-container-id-1 div.sk-parallel-item:first-child::after {align-self: flex-end;width: 50%;}#sk-container-id-1 div.sk-parallel-item:last-child::after {align-self: flex-start;width: 50%;}#sk-container-id-1 div.sk-parallel-item:only-child::after {width: 0;}#sk-container-id-1 div.sk-dashed-wrapped {border: 1px dashed gray;margin: 0 0.4em 0.5em 0.4em;box-sizing: border-box;padding-bottom: 0.4em;background-color: white;}#sk-container-id-1 div.sk-label label {font-family: monospace;font-weight: bold;display: inline-block;line-height: 1.2em;}#sk-container-id-1 div.sk-label-container {text-align: center;}#sk-container-id-1 div.sk-container {/* jupyter's `normalize.less` sets `[hidden] { display: none; }` but bootstrap.min.css set `[hidden] { display: none !important; }` so we also need the `!important` here to be able to override the default hidden behavior on the sphinx rendered scikit-learn.org. See: https://github.com/scikit-learn/scikit-learn/issues/21755 */display: inline-block !important;position: relative;}#sk-container-id-1 div.sk-text-repr-fallback {display: none;}</style><div id=\"sk-container-id-1\" class=\"sk-top-container\"><div class=\"sk-text-repr-fallback\"><pre>LogisticRegression()</pre><b>In a Jupyter environment, please rerun this cell to show the HTML representation or trust the notebook. <br />On GitHub, the HTML representation is unable to render, please try loading this page with nbviewer.org.</b></div><div class=\"sk-container\" hidden><div class=\"sk-item\"><div class=\"sk-estimator sk-toggleable\"><input class=\"sk-toggleable__control sk-hidden--visually\" id=\"sk-estimator-id-1\" type=\"checkbox\" checked><label for=\"sk-estimator-id-1\" class=\"sk-toggleable__label sk-toggleable__label-arrow\">LogisticRegression</label><div class=\"sk-toggleable__content\"><pre>LogisticRegression()</pre></div></div></div></div></div>"
      ],
      "text/plain": [
       "LogisticRegression()"
      ]
     },
     "execution_count": 28,
     "metadata": {},
     "output_type": "execute_result"
    }
   ],
   "source": [
    "lrm.fit(X_train,y_train)"
   ]
  },
  {
   "cell_type": "code",
   "execution_count": 29,
   "id": "5f0ba59f",
   "metadata": {},
   "outputs": [],
   "source": [
    "yPred = lrm.predict(X_test)"
   ]
  },
  {
   "cell_type": "markdown",
   "id": "5a95714a",
   "metadata": {},
   "source": [
    "### Confusion Matrix\n",
    "\n",
    " - a table that is used to define the performance of a classification algorithm"
   ]
  },
  {
   "cell_type": "code",
   "execution_count": 30,
   "id": "2364ea2b",
   "metadata": {},
   "outputs": [],
   "source": [
    "cm = confusion_matrix(y_test,yPred)"
   ]
  },
  {
   "cell_type": "code",
   "execution_count": 31,
   "id": "2e8d9a1a",
   "metadata": {},
   "outputs": [
    {
     "name": "stdout",
     "output_type": "stream",
     "text": [
      "Confusion Matrix:\n"
     ]
    },
    {
     "data": {
      "text/plain": [
       "array([[773,  15],\n",
       "       [115,  12]])"
      ]
     },
     "execution_count": 31,
     "metadata": {},
     "output_type": "execute_result"
    }
   ],
   "source": [
    "print(\"Confusion Matrix:\")\n",
    "\n",
    "cm"
   ]
  },
  {
   "cell_type": "code",
   "execution_count": 32,
   "id": "ab3ddfbd",
   "metadata": {},
   "outputs": [],
   "source": [
    "tn,fp,fn,tp = cm.ravel()"
   ]
  },
  {
   "cell_type": "code",
   "execution_count": 33,
   "id": "8ee1b6e2",
   "metadata": {},
   "outputs": [],
   "source": [
    "singleModelAcc = accuracy_score(y_test,yPred) * 100"
   ]
  },
  {
   "cell_type": "code",
   "execution_count": 34,
   "id": "7306cd91",
   "metadata": {
    "scrolled": true
   },
   "outputs": [
    {
     "name": "stdout",
     "output_type": "stream",
     "text": [
      "Model Accuracy: 85.79%\n"
     ]
    }
   ],
   "source": [
    "print(\"Model Accuracy: {:.2f}%\".format(singleModelAcc))"
   ]
  },
  {
   "cell_type": "code",
   "execution_count": 35,
   "id": "95821b0b",
   "metadata": {},
   "outputs": [
    {
     "data": {
      "text/plain": [
       "85.79"
      ]
     },
     "execution_count": 35,
     "metadata": {},
     "output_type": "execute_result"
    }
   ],
   "source": [
    "r2((tp+tn) / cm.sum() * 100) # Calculating model accuracy manually"
   ]
  },
  {
   "cell_type": "markdown",
   "id": "bef3d8cf",
   "metadata": {},
   "source": [
    "# Type I & Type II Error\n",
    "\n",
    "- Type I Error\n",
    "    - Mistaken rejection of an actually true null hypothesis (False Positive)\n",
    "    \n",
    "- Type II Error\n",
    "    - the failure to reject a null hypothesis that is actually false (False Negative)\n",
    "    \n",
    "    *Since we are dealing with Predicting heart disease, Higher value of false negatives is dangerous. \n",
    "    False Negative = There is Heart Disease, but we predict it wrongly as No Heart Disease. *"
   ]
  },
  {
   "cell_type": "code",
   "execution_count": 36,
   "id": "5e559d15",
   "metadata": {},
   "outputs": [],
   "source": [
    "tn,fp,fn,tp =  cm.ravel()"
   ]
  },
  {
   "cell_type": "code",
   "execution_count": 37,
   "id": "bda3e41a",
   "metadata": {},
   "outputs": [
    {
     "data": {
      "text/plain": [
       "15"
      ]
     },
     "execution_count": 37,
     "metadata": {},
     "output_type": "execute_result"
    }
   ],
   "source": [
    "fp # Type I error"
   ]
  },
  {
   "cell_type": "code",
   "execution_count": 38,
   "id": "f6ef967a",
   "metadata": {},
   "outputs": [
    {
     "data": {
      "text/plain": [
       "115"
      ]
     },
     "execution_count": 38,
     "metadata": {},
     "output_type": "execute_result"
    }
   ],
   "source": [
    "fn # type two error"
   ]
  },
  {
   "cell_type": "markdown",
   "id": "0430926b",
   "metadata": {},
   "source": [
    "### Model Sensitivity\n",
    "\n",
    "- Sensitivity (true positive rate) refers to the probability of a positive test, conditioned on truly being positive."
   ]
  },
  {
   "cell_type": "code",
   "execution_count": 39,
   "id": "aa3badfb",
   "metadata": {},
   "outputs": [
    {
     "name": "stdout",
     "output_type": "stream",
     "text": [
      "Sensitivity 9.45%\n"
     ]
    }
   ],
   "source": [
    "sense = tp / (tp+fn) * 100\n",
    "\n",
    "print(\"Sensitivity {:.2f}%\".format(sense))"
   ]
  },
  {
   "cell_type": "markdown",
   "id": "5d9310ea",
   "metadata": {},
   "source": [
    "### Model Specificity\n",
    "- Specificity (true negative rate) refers to the probability of a negative test, conditioned on truly being negative."
   ]
  },
  {
   "cell_type": "code",
   "execution_count": 40,
   "id": "075db3af",
   "metadata": {},
   "outputs": [
    {
     "name": "stdout",
     "output_type": "stream",
     "text": [
      "Specificity 98.10%\n"
     ]
    }
   ],
   "source": [
    "spec = tn / (tn + fp) * 100\n",
    "\n",
    "print(\"Specificity {:.2f}%\".format(spec))"
   ]
  },
  {
   "cell_type": "code",
   "execution_count": 41,
   "id": "942f36e5",
   "metadata": {},
   "outputs": [],
   "source": [
    "singleModelAcc = accuracy_score(y_test,yPred) * 100"
   ]
  },
  {
   "cell_type": "markdown",
   "id": "ee634c9b",
   "metadata": {},
   "source": [
    "# Cross Validation\n",
    "- a resampling method that uses different portions of the data to test and train a model on different iterations"
   ]
  },
  {
   "cell_type": "code",
   "execution_count": 42,
   "id": "663fa4d1",
   "metadata": {},
   "outputs": [],
   "source": [
    "lrm = LogisticRegression(C=10) # parameter tuning"
   ]
  },
  {
   "cell_type": "code",
   "execution_count": 43,
   "id": "88033a50",
   "metadata": {},
   "outputs": [
    {
     "data": {
      "text/plain": [
       "array([0.8579235 , 0.84972678, 0.83879781, 0.84699454, 0.84153005,\n",
       "       0.84972678, 0.84972678, 0.84153005, 0.85205479, 0.84657534])"
      ]
     },
     "execution_count": 43,
     "metadata": {},
     "output_type": "execute_result"
    }
   ],
   "source": [
    "cross_val_score(lrm,X,y,cv=10)"
   ]
  },
  {
   "cell_type": "code",
   "execution_count": 44,
   "id": "ed4d7ab3",
   "metadata": {},
   "outputs": [],
   "source": [
    "tenFoldCVscore = cross_val_score(lrm,X,y,cv=10).mean() * 100"
   ]
  },
  {
   "cell_type": "code",
   "execution_count": 45,
   "id": "fcd4529f",
   "metadata": {},
   "outputs": [
    {
     "name": "stdout",
     "output_type": "stream",
     "text": [
      "10 Fold Cross Validation: 84.75%\n"
     ]
    }
   ],
   "source": [
    "print(\"10 Fold Cross Validation: {:.2f}%\".format(tenFoldCVscore))"
   ]
  },
  {
   "cell_type": "markdown",
   "id": "5b044855",
   "metadata": {},
   "source": [
    "# Logistic Regression Scaling Features"
   ]
  },
  {
   "cell_type": "code",
   "execution_count": 46,
   "id": "b7db6f5f",
   "metadata": {},
   "outputs": [],
   "source": [
    "X_train, X_test, y_train, y_test = train_test_split(X,y,test_size=0.20,random_state=3)"
   ]
  },
  {
   "cell_type": "code",
   "execution_count": 47,
   "id": "b82a45a3",
   "metadata": {},
   "outputs": [],
   "source": [
    "x_sc = StandardScaler()"
   ]
  },
  {
   "cell_type": "code",
   "execution_count": 48,
   "id": "a2bb6506",
   "metadata": {},
   "outputs": [],
   "source": [
    "X_train = x_sc.fit_transform(X_train)\n",
    "X_test = x_sc.fit_transform(X_test)"
   ]
  },
  {
   "cell_type": "code",
   "execution_count": 49,
   "id": "7f555034",
   "metadata": {},
   "outputs": [
    {
     "data": {
      "text/html": [
       "<style>#sk-container-id-2 {color: black;background-color: white;}#sk-container-id-2 pre{padding: 0;}#sk-container-id-2 div.sk-toggleable {background-color: white;}#sk-container-id-2 label.sk-toggleable__label {cursor: pointer;display: block;width: 100%;margin-bottom: 0;padding: 0.3em;box-sizing: border-box;text-align: center;}#sk-container-id-2 label.sk-toggleable__label-arrow:before {content: \"▸\";float: left;margin-right: 0.25em;color: #696969;}#sk-container-id-2 label.sk-toggleable__label-arrow:hover:before {color: black;}#sk-container-id-2 div.sk-estimator:hover label.sk-toggleable__label-arrow:before {color: black;}#sk-container-id-2 div.sk-toggleable__content {max-height: 0;max-width: 0;overflow: hidden;text-align: left;background-color: #f0f8ff;}#sk-container-id-2 div.sk-toggleable__content pre {margin: 0.2em;color: black;border-radius: 0.25em;background-color: #f0f8ff;}#sk-container-id-2 input.sk-toggleable__control:checked~div.sk-toggleable__content {max-height: 200px;max-width: 100%;overflow: auto;}#sk-container-id-2 input.sk-toggleable__control:checked~label.sk-toggleable__label-arrow:before {content: \"▾\";}#sk-container-id-2 div.sk-estimator input.sk-toggleable__control:checked~label.sk-toggleable__label {background-color: #d4ebff;}#sk-container-id-2 div.sk-label input.sk-toggleable__control:checked~label.sk-toggleable__label {background-color: #d4ebff;}#sk-container-id-2 input.sk-hidden--visually {border: 0;clip: rect(1px 1px 1px 1px);clip: rect(1px, 1px, 1px, 1px);height: 1px;margin: -1px;overflow: hidden;padding: 0;position: absolute;width: 1px;}#sk-container-id-2 div.sk-estimator {font-family: monospace;background-color: #f0f8ff;border: 1px dotted black;border-radius: 0.25em;box-sizing: border-box;margin-bottom: 0.5em;}#sk-container-id-2 div.sk-estimator:hover {background-color: #d4ebff;}#sk-container-id-2 div.sk-parallel-item::after {content: \"\";width: 100%;border-bottom: 1px solid gray;flex-grow: 1;}#sk-container-id-2 div.sk-label:hover label.sk-toggleable__label {background-color: #d4ebff;}#sk-container-id-2 div.sk-serial::before {content: \"\";position: absolute;border-left: 1px solid gray;box-sizing: border-box;top: 0;bottom: 0;left: 50%;z-index: 0;}#sk-container-id-2 div.sk-serial {display: flex;flex-direction: column;align-items: center;background-color: white;padding-right: 0.2em;padding-left: 0.2em;position: relative;}#sk-container-id-2 div.sk-item {position: relative;z-index: 1;}#sk-container-id-2 div.sk-parallel {display: flex;align-items: stretch;justify-content: center;background-color: white;position: relative;}#sk-container-id-2 div.sk-item::before, #sk-container-id-2 div.sk-parallel-item::before {content: \"\";position: absolute;border-left: 1px solid gray;box-sizing: border-box;top: 0;bottom: 0;left: 50%;z-index: -1;}#sk-container-id-2 div.sk-parallel-item {display: flex;flex-direction: column;z-index: 1;position: relative;background-color: white;}#sk-container-id-2 div.sk-parallel-item:first-child::after {align-self: flex-end;width: 50%;}#sk-container-id-2 div.sk-parallel-item:last-child::after {align-self: flex-start;width: 50%;}#sk-container-id-2 div.sk-parallel-item:only-child::after {width: 0;}#sk-container-id-2 div.sk-dashed-wrapped {border: 1px dashed gray;margin: 0 0.4em 0.5em 0.4em;box-sizing: border-box;padding-bottom: 0.4em;background-color: white;}#sk-container-id-2 div.sk-label label {font-family: monospace;font-weight: bold;display: inline-block;line-height: 1.2em;}#sk-container-id-2 div.sk-label-container {text-align: center;}#sk-container-id-2 div.sk-container {/* jupyter's `normalize.less` sets `[hidden] { display: none; }` but bootstrap.min.css set `[hidden] { display: none !important; }` so we also need the `!important` here to be able to override the default hidden behavior on the sphinx rendered scikit-learn.org. See: https://github.com/scikit-learn/scikit-learn/issues/21755 */display: inline-block !important;position: relative;}#sk-container-id-2 div.sk-text-repr-fallback {display: none;}</style><div id=\"sk-container-id-2\" class=\"sk-top-container\"><div class=\"sk-text-repr-fallback\"><pre>LogisticRegression(C=10)</pre><b>In a Jupyter environment, please rerun this cell to show the HTML representation or trust the notebook. <br />On GitHub, the HTML representation is unable to render, please try loading this page with nbviewer.org.</b></div><div class=\"sk-container\" hidden><div class=\"sk-item\"><div class=\"sk-estimator sk-toggleable\"><input class=\"sk-toggleable__control sk-hidden--visually\" id=\"sk-estimator-id-2\" type=\"checkbox\" checked><label for=\"sk-estimator-id-2\" class=\"sk-toggleable__label sk-toggleable__label-arrow\">LogisticRegression</label><div class=\"sk-toggleable__content\"><pre>LogisticRegression(C=10)</pre></div></div></div></div></div>"
      ],
      "text/plain": [
       "LogisticRegression(C=10)"
      ]
     },
     "execution_count": 49,
     "metadata": {},
     "output_type": "execute_result"
    }
   ],
   "source": [
    "lrm.fit(X_train,y_train)"
   ]
  },
  {
   "cell_type": "code",
   "execution_count": 50,
   "id": "9dea9eba",
   "metadata": {},
   "outputs": [],
   "source": [
    "yPred = lrm.predict(X_test)"
   ]
  },
  {
   "cell_type": "code",
   "execution_count": 51,
   "id": "0e7a90d3",
   "metadata": {},
   "outputs": [],
   "source": [
    "cm2 = confusion_matrix(y_test,yPred)"
   ]
  },
  {
   "cell_type": "code",
   "execution_count": 52,
   "id": "eb0a60ff",
   "metadata": {},
   "outputs": [],
   "source": [
    "tn, fp, fn, tp = cm.ravel()"
   ]
  },
  {
   "cell_type": "code",
   "execution_count": 53,
   "id": "44402912",
   "metadata": {},
   "outputs": [],
   "source": [
    "sense2 = tp / (tp+fn) * 100"
   ]
  },
  {
   "cell_type": "code",
   "execution_count": 54,
   "id": "62012995",
   "metadata": {},
   "outputs": [
    {
     "name": "stdout",
     "output_type": "stream",
     "text": [
      "Sensitivity 9.45%\n"
     ]
    }
   ],
   "source": [
    "print(\"Sensitivity {:.2f}%\".format(sense2))"
   ]
  },
  {
   "cell_type": "code",
   "execution_count": 55,
   "id": "fe67e725",
   "metadata": {},
   "outputs": [],
   "source": [
    "spec2 = tn/(tn+fp) * 100"
   ]
  },
  {
   "cell_type": "code",
   "execution_count": 56,
   "id": "5668e1ae",
   "metadata": {},
   "outputs": [
    {
     "name": "stdout",
     "output_type": "stream",
     "text": [
      "Specificity 98.10%\n"
     ]
    }
   ],
   "source": [
    "print(\"Specificity {:.2f}%\".format(spec2))"
   ]
  },
  {
   "cell_type": "code",
   "execution_count": 57,
   "id": "92278379",
   "metadata": {},
   "outputs": [
    {
     "name": "stdout",
     "output_type": "stream",
     "text": [
      "Model Accuracy: 86.61%\n"
     ]
    }
   ],
   "source": [
    "maSF = accuracy_score(y_test,yPred) * 100\n",
    "\n",
    "print(\"Model Accuracy: {:.2f}%\".format(maSF))"
   ]
  },
  {
   "cell_type": "markdown",
   "id": "0837164b",
   "metadata": {},
   "source": [
    "# Cross Validation With Scaled Features"
   ]
  },
  {
   "cell_type": "code",
   "execution_count": 58,
   "id": "1c987294",
   "metadata": {},
   "outputs": [],
   "source": [
    "lrm = LogisticRegression()"
   ]
  },
  {
   "cell_type": "code",
   "execution_count": 59,
   "id": "05b2039f",
   "metadata": {},
   "outputs": [],
   "source": [
    "X2 = x_sc.fit_transform(X)"
   ]
  },
  {
   "cell_type": "code",
   "execution_count": 60,
   "id": "1ab03b83",
   "metadata": {
    "scrolled": false
   },
   "outputs": [
    {
     "name": "stdout",
     "output_type": "stream",
     "text": [
      "Cross Val Scaled Features: 85.05\n"
     ]
    }
   ],
   "source": [
    "print(\"Cross Val Scaled Features: {}\".format(r2(cross_val_score(lrm,X2,y).mean() * 100)))"
   ]
  },
  {
   "cell_type": "markdown",
   "id": "928f8a06",
   "metadata": {},
   "source": [
    "# Resampling to Reduce Type II Error\n",
    "\n",
    "     - Due to the low number of observations that have 10 year CHD 15% "
   ]
  },
  {
   "cell_type": "code",
   "execution_count": 61,
   "id": "794dd231",
   "metadata": {},
   "outputs": [],
   "source": [
    "X_train,X_test,y_train,y_test = train_test_split(X,y,test_size=0.25,random_state=3)"
   ]
  },
  {
   "cell_type": "code",
   "execution_count": 62,
   "id": "2f8de187",
   "metadata": {},
   "outputs": [],
   "source": [
    "smo = SMOTE()"
   ]
  },
  {
   "cell_type": "code",
   "execution_count": 63,
   "id": "600d42bc",
   "metadata": {},
   "outputs": [],
   "source": [
    "X_train, y_train = smo.fit_resample(X_train, y_train)"
   ]
  },
  {
   "cell_type": "code",
   "execution_count": 64,
   "id": "24dd471b",
   "metadata": {
    "scrolled": true
   },
   "outputs": [
    {
     "data": {
      "text/html": [
       "<style>#sk-container-id-3 {color: black;background-color: white;}#sk-container-id-3 pre{padding: 0;}#sk-container-id-3 div.sk-toggleable {background-color: white;}#sk-container-id-3 label.sk-toggleable__label {cursor: pointer;display: block;width: 100%;margin-bottom: 0;padding: 0.3em;box-sizing: border-box;text-align: center;}#sk-container-id-3 label.sk-toggleable__label-arrow:before {content: \"▸\";float: left;margin-right: 0.25em;color: #696969;}#sk-container-id-3 label.sk-toggleable__label-arrow:hover:before {color: black;}#sk-container-id-3 div.sk-estimator:hover label.sk-toggleable__label-arrow:before {color: black;}#sk-container-id-3 div.sk-toggleable__content {max-height: 0;max-width: 0;overflow: hidden;text-align: left;background-color: #f0f8ff;}#sk-container-id-3 div.sk-toggleable__content pre {margin: 0.2em;color: black;border-radius: 0.25em;background-color: #f0f8ff;}#sk-container-id-3 input.sk-toggleable__control:checked~div.sk-toggleable__content {max-height: 200px;max-width: 100%;overflow: auto;}#sk-container-id-3 input.sk-toggleable__control:checked~label.sk-toggleable__label-arrow:before {content: \"▾\";}#sk-container-id-3 div.sk-estimator input.sk-toggleable__control:checked~label.sk-toggleable__label {background-color: #d4ebff;}#sk-container-id-3 div.sk-label input.sk-toggleable__control:checked~label.sk-toggleable__label {background-color: #d4ebff;}#sk-container-id-3 input.sk-hidden--visually {border: 0;clip: rect(1px 1px 1px 1px);clip: rect(1px, 1px, 1px, 1px);height: 1px;margin: -1px;overflow: hidden;padding: 0;position: absolute;width: 1px;}#sk-container-id-3 div.sk-estimator {font-family: monospace;background-color: #f0f8ff;border: 1px dotted black;border-radius: 0.25em;box-sizing: border-box;margin-bottom: 0.5em;}#sk-container-id-3 div.sk-estimator:hover {background-color: #d4ebff;}#sk-container-id-3 div.sk-parallel-item::after {content: \"\";width: 100%;border-bottom: 1px solid gray;flex-grow: 1;}#sk-container-id-3 div.sk-label:hover label.sk-toggleable__label {background-color: #d4ebff;}#sk-container-id-3 div.sk-serial::before {content: \"\";position: absolute;border-left: 1px solid gray;box-sizing: border-box;top: 0;bottom: 0;left: 50%;z-index: 0;}#sk-container-id-3 div.sk-serial {display: flex;flex-direction: column;align-items: center;background-color: white;padding-right: 0.2em;padding-left: 0.2em;position: relative;}#sk-container-id-3 div.sk-item {position: relative;z-index: 1;}#sk-container-id-3 div.sk-parallel {display: flex;align-items: stretch;justify-content: center;background-color: white;position: relative;}#sk-container-id-3 div.sk-item::before, #sk-container-id-3 div.sk-parallel-item::before {content: \"\";position: absolute;border-left: 1px solid gray;box-sizing: border-box;top: 0;bottom: 0;left: 50%;z-index: -1;}#sk-container-id-3 div.sk-parallel-item {display: flex;flex-direction: column;z-index: 1;position: relative;background-color: white;}#sk-container-id-3 div.sk-parallel-item:first-child::after {align-self: flex-end;width: 50%;}#sk-container-id-3 div.sk-parallel-item:last-child::after {align-self: flex-start;width: 50%;}#sk-container-id-3 div.sk-parallel-item:only-child::after {width: 0;}#sk-container-id-3 div.sk-dashed-wrapped {border: 1px dashed gray;margin: 0 0.4em 0.5em 0.4em;box-sizing: border-box;padding-bottom: 0.4em;background-color: white;}#sk-container-id-3 div.sk-label label {font-family: monospace;font-weight: bold;display: inline-block;line-height: 1.2em;}#sk-container-id-3 div.sk-label-container {text-align: center;}#sk-container-id-3 div.sk-container {/* jupyter's `normalize.less` sets `[hidden] { display: none; }` but bootstrap.min.css set `[hidden] { display: none !important; }` so we also need the `!important` here to be able to override the default hidden behavior on the sphinx rendered scikit-learn.org. See: https://github.com/scikit-learn/scikit-learn/issues/21755 */display: inline-block !important;position: relative;}#sk-container-id-3 div.sk-text-repr-fallback {display: none;}</style><div id=\"sk-container-id-3\" class=\"sk-top-container\"><div class=\"sk-text-repr-fallback\"><pre>LogisticRegression()</pre><b>In a Jupyter environment, please rerun this cell to show the HTML representation or trust the notebook. <br />On GitHub, the HTML representation is unable to render, please try loading this page with nbviewer.org.</b></div><div class=\"sk-container\" hidden><div class=\"sk-item\"><div class=\"sk-estimator sk-toggleable\"><input class=\"sk-toggleable__control sk-hidden--visually\" id=\"sk-estimator-id-3\" type=\"checkbox\" checked><label for=\"sk-estimator-id-3\" class=\"sk-toggleable__label sk-toggleable__label-arrow\">LogisticRegression</label><div class=\"sk-toggleable__content\"><pre>LogisticRegression()</pre></div></div></div></div></div>"
      ],
      "text/plain": [
       "LogisticRegression()"
      ]
     },
     "execution_count": 64,
     "metadata": {},
     "output_type": "execute_result"
    }
   ],
   "source": [
    "lrm.fit(X_train, y_train)"
   ]
  },
  {
   "cell_type": "code",
   "execution_count": 65,
   "id": "354507df",
   "metadata": {},
   "outputs": [],
   "source": [
    "yPred = lrm.predict(X_test)"
   ]
  },
  {
   "cell_type": "code",
   "execution_count": 66,
   "id": "cc7ed5d1",
   "metadata": {},
   "outputs": [],
   "source": [
    "cmRE = confusion_matrix(y_test,yPred)"
   ]
  },
  {
   "cell_type": "code",
   "execution_count": 67,
   "id": "eaf46ab6",
   "metadata": {
    "scrolled": true
   },
   "outputs": [
    {
     "name": "stdout",
     "output_type": "stream",
     "text": [
      "Confusion Matrix:\n"
     ]
    },
    {
     "data": {
      "text/plain": [
       "array([[531, 257],\n",
       "       [ 52,  75]])"
      ]
     },
     "execution_count": 67,
     "metadata": {},
     "output_type": "execute_result"
    }
   ],
   "source": [
    "print(\"Confusion Matrix:\")\n",
    "cmRE"
   ]
  },
  {
   "cell_type": "code",
   "execution_count": 68,
   "id": "7e64dc60",
   "metadata": {},
   "outputs": [],
   "source": [
    "tn,fp,fn,tp = cmRE.ravel()"
   ]
  },
  {
   "cell_type": "code",
   "execution_count": 69,
   "id": "1541ec00",
   "metadata": {},
   "outputs": [
    {
     "name": "stdout",
     "output_type": "stream",
     "text": [
      "Sensitivity 59.06%\n"
     ]
    }
   ],
   "source": [
    "sense = tp / (tp+fn) * 100\n",
    "\n",
    "print(\"Sensitivity {:.2f}%\".format(sense))"
   ]
  },
  {
   "cell_type": "code",
   "execution_count": 70,
   "id": "2c2126de",
   "metadata": {},
   "outputs": [
    {
     "name": "stdout",
     "output_type": "stream",
     "text": [
      "Specificity 67.39%\n"
     ]
    }
   ],
   "source": [
    "spec = tn / (tn + fp) * 100\n",
    "\n",
    "print(\"Specificity {:.2f}%\".format(spec))"
   ]
  },
  {
   "cell_type": "code",
   "execution_count": 71,
   "id": "3135c5a2",
   "metadata": {},
   "outputs": [],
   "source": [
    "rsModelAcc = accuracy_score(y_test,yPred) * 100"
   ]
  },
  {
   "cell_type": "code",
   "execution_count": 72,
   "id": "b88cb47a",
   "metadata": {},
   "outputs": [
    {
     "name": "stdout",
     "output_type": "stream",
     "text": [
      "Logistic Model Accuracy: 66.23%\n"
     ]
    }
   ],
   "source": [
    "print(\"Logistic Model Accuracy: {:.2f}%\".format(rsModelAcc))"
   ]
  }
 ],
 "metadata": {
  "kernelspec": {
   "display_name": "Python 3",
   "language": "python",
   "name": "python3"
  },
  "language_info": {
   "codemirror_mode": {
    "name": "ipython",
    "version": 3
   },
   "file_extension": ".py",
   "mimetype": "text/x-python",
   "name": "python",
   "nbconvert_exporter": "python",
   "pygments_lexer": "ipython3",
   "version": "3.8.8"
  }
 },
 "nbformat": 4,
 "nbformat_minor": 5
}
